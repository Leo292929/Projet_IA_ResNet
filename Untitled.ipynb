{
  "nbformat": 4,
  "nbformat_minor": 0,
  "metadata": {
    "colab": {
      "name": "Untitled0.ipynb",
      "provenance": []
    },
    "kernelspec": {
      "name": "python3",
      "display_name": "Python 3"
    },
    "language_info": {
      "name": "python"
    },
    "accelerator": "GPU",
    "gpuClass": "standard"
  },
  "cells": [
    {
      "cell_type": "code",
      "execution_count": 2,
      "metadata": {
        "id": "ffZNkrWkOE84"
      },
      "outputs": [],
      "source": [
        "\n",
        "!pip install dropblock\n",
        "import torch\n",
        "import torchvision\n",
        "import torchvision . transforms as transforms\n",
        "import statistics\n",
        "from random import shuffle\n",
        "from random import sample\n",
        "from operator import itemgetter\n",
        "from torch.utils.data import random_split\n",
        "import torch.nn as nn\n",
        "import torch.nn.functional as F\n",
        "import matplotlib\n",
        "import matplotlib.pyplot as plt\n",
        "from dropblock import DropBlock2D"
      ]
    },
    {
      "cell_type": "code",
      "source": [
        "transform = transforms.Compose([transforms.RandomCrop(32, padding=4, padding_mode='reflect'),transforms.RandomHorizontalFlip(),transforms.ToTensor(),transforms.Normalize((0.5,0.5,0.5),(0.5,0.5,0.5))])    #on sauvegarde un type de transformation, c'est tout\n",
        "#data augmentation (hotizontal flip + random crop)\n",
        "data_set=torchvision.datasets.CIFAR10(root=\"./data\",train=True,download=True,transform=transform)  #on creer le dataseet de train, en gros on load le dataset global ou train = yes\n",
        "test_set = torchvision.datasets.CIFAR10(root=\"./ data \",train =False,download =True,transform=transform) #la meme mais avec le train = false\n",
        "classes = (\"plane \", \"car \", \"bird\", \"cat\", \"deer\", \"dog\", \"frog\", \"horse\", \"ship\", \"truck\")"
      ],
      "metadata": {
        "colab": {
          "base_uri": "https://localhost:8080/"
        },
        "id": "RYsPQV9QOKv7",
        "outputId": "004fab5d-fd27-4188-e6f6-325c7b26b2fa"
      },
      "execution_count": 27,
      "outputs": [
        {
          "output_type": "stream",
          "name": "stdout",
          "text": [
            "Files already downloaded and verified\n",
            "Files already downloaded and verified\n"
          ]
        }
      ]
    },
    {
      "cell_type": "code",
      "source": [
        "device = \"cuda\"\n",
        "\n",
        "train_set_size = 45000   #0\n",
        "val_set_size = 5000      #1\n",
        "batch_size = 400      #2\n",
        "lr = 0.001          #3\n",
        "n_epoch = 25          #4\n",
        "n_class = 10         #5\n",
        "input_size = 3*32*32 #6\n",
        "max_lr = 0.01\n",
        "weight_decay = 0.0001\n"
      ],
      "metadata": {
        "id": "bzHYG2NKOMJA"
      },
      "execution_count": 53,
      "outputs": []
    },
    {
      "cell_type": "code",
      "source": [
        "def get_default_device():\n",
        "    if torch.cuda.is_available():\n",
        "        return torch.device('cuda')\n",
        "    else:\n",
        "        return torch.device('cpu')\n",
        "\n",
        "def to_device(data, device):\n",
        "    if isinstance(data, (list,tuple)):\n",
        "        return [to_device(x, device) for x in data]\n",
        "    return data.to(device, non_blocking=True)\n",
        "\n",
        "device = get_default_device()"
      ],
      "metadata": {
        "id": "bljoIOfoONz6"
      },
      "execution_count": 29,
      "outputs": []
    },
    {
      "cell_type": "code",
      "source": [
        "#split + dataloader\n",
        "train_set,val_set = random_split(data_set, [train_set_size, val_set_size])\n",
        "train_loader = torch . utils . data . DataLoader ( train_set , batch_size = batch_size , shuffle =True , num_workers =2 )#creer une liste de batch contenant les datas\n",
        "test_loader = torch . utils . data . DataLoader ( test_set , batch_size = batch_size , shuffle =False , num_workers =2)\n",
        "val_loader = torch . utils . data . DataLoader ( val_set , batch_size = batch_size , shuffle =True , num_workers =2 )"
      ],
      "metadata": {
        "id": "JaTBXO4yOPYP"
      },
      "execution_count": 39,
      "outputs": []
    },
    {
      "cell_type": "code",
      "source": [
        "class DeviceDataLoader():\n",
        "    def __init__(self, dl, device):\n",
        "        self.dl=dl\n",
        "        self.device=device\n",
        "    def __iter__(self):\n",
        "        for b in self.dl: \n",
        "            yield to_device(b,self.device)\n",
        "    def __len__(self):\n",
        "        return len(self.dl)"
      ],
      "metadata": {
        "id": "eb0YY2SpOQwK"
      },
      "execution_count": 31,
      "outputs": []
    },
    {
      "cell_type": "code",
      "source": [
        "train_loader = DeviceDataLoader(train_loader, device)\n",
        "val_loader = DeviceDataLoader(val_loader, device)\n",
        "test_loader = DeviceDataLoader(test_loader, device)"
      ],
      "metadata": {
        "id": "f5omkPykOS90"
      },
      "execution_count": 54,
      "outputs": []
    },
    {
      "cell_type": "code",
      "source": [
        "def accuracy(outputs, labels):\n",
        "    _, preds = torch.max(outputs, dim=1)\n",
        "    return torch.tensor(torch.sum(preds == labels).item() / len(preds))\n",
        "\n",
        "class ImageClassificationBase(nn.Module):\n",
        "    def training_step(self, batch):\n",
        "        images, labels = batch \n",
        "        out = self(images)                  # Generate predictions\n",
        "        loss = F.cross_entropy(out, labels) # Calculate loss\n",
        "        return loss\n",
        "    \n",
        "    def validation_step(self, batch):\n",
        "        images, labels = batch \n",
        "        out = self(images)                    # Generate predictions\n",
        "        loss = F.cross_entropy(out, labels)   # Calculate loss\n",
        "        acc = accuracy(out, labels)           # Calculate accuracy\n",
        "        return {'val_loss': loss.detach(), 'val_acc': acc}\n",
        "        \n",
        "    def validation_epoch_end(self, outputs):\n",
        "        batch_losses = [x['val_loss'] for x in outputs]\n",
        "        epoch_loss = torch.stack(batch_losses).mean()   # Combine losses\n",
        "        batch_accs = [x['val_acc'] for x in outputs]\n",
        "        epoch_acc = torch.stack(batch_accs).mean()      # Combine accuracies\n",
        "        return {'val_loss': epoch_loss.item(), 'val_acc': epoch_acc.item()}\n",
        "    \n",
        "    def epoch_end(self, epoch, result):\n",
        "        print(\"Epoch [{}], train_loss: {:.4f}, val_loss: {:.4f}, val_acc: {:.4f}\".format(\n",
        "            epoch, result['train_loss'], result['val_loss'], result['val_acc']))"
      ],
      "metadata": {
        "id": "FZgPCh0HOVEy"
      },
      "execution_count": 33,
      "outputs": []
    },
    {
      "cell_type": "code",
      "source": [
        "#wideresnet\n",
        "def conv_block(in_channels, out_channels,kernel_size=3, pool=False):\n",
        "    layers = [nn.Conv2d(in_channels, out_channels, kernel_size=kernel_size, padding=1), #on applique le kernel et le padding (stride de 1 par defaut)\n",
        "              nn.BatchNorm2d(out_channels), #on normalize\n",
        "              nn.ReLU(inplace=True)]#on applique relu, classique\n",
        "    if pool: layers.append(nn.MaxPool2d(2)) #maxpooling=> reduire les dimension\n",
        "    return nn.Sequential(*layers)#permet d'unpacker les layer soit de transformer une liste en tuple\n",
        "\n",
        "class WideResNet(ImageClassificationBase):\n",
        "    def __init__(self, in_channels, num_classes):\n",
        "        super().__init__()\n",
        "\n",
        "        self.conv0 = conv_block(in_channels, 64,7,pool = True)\n",
        "\n",
        "        self.res1 = nn.Sequential(conv_block(64, 64), DropBlock2D(block_size=3, drop_prob=0.3),conv_block(64, 64))\n",
        "        self.conv1= conv_block(64,64)\n",
        "\n",
        "        self.res15 = nn.Sequential(conv_block(64, 128), DropBlock2D(block_size=3, drop_prob=0.3), conv_block(128, 128))\n",
        "        self.conv15 = conv_block(64,128)\n",
        "\n",
        "        self.res2 = nn.Sequential(conv_block(128, 128),  DropBlock2D(block_size=3, drop_prob=0.3),conv_block(128, 128))\n",
        "        self.conv2 = conv_block(128,128)\n",
        "\n",
        "        self.res25 = nn.Sequential(conv_block(128, 256), DropBlock2D(block_size=3, drop_prob=0.3), conv_block(256, 256))\n",
        "        self.conv25 = conv_block(128,256)\n",
        "\n",
        "        self.res3 = nn.Sequential(conv_block(256,256), DropBlock2D(block_size=3, drop_prob=0.3), conv_block(256, 256))\n",
        "        self.conv3 = conv_block(256,256)\n",
        "\n",
        "        self.res35 = nn.Sequential(conv_block(256, 512), DropBlock2D(block_size=3, drop_prob=0.3), conv_block(512, 512))\n",
        "        self.conv35 = conv_block( 256,512)\n",
        "\n",
        "        self.res4 = nn.Sequential(conv_block(512, 512),  DropBlock2D(block_size=3, drop_prob=0.3),conv_block(512, 512))\n",
        "        self.conv4 = conv_block(512, 512)\n",
        "\n",
        "        self.classifier = nn.Sequential(nn.AvgPool2d(8), \n",
        "                                        nn.Flatten(), \n",
        "                                        nn.Linear(512, num_classes))\n",
        "        \n",
        "    def forward(self, xb):\n",
        "        out = self.conv0(xb)\n",
        " #       out = self.res1(out) + self.conv1(out)\n",
        " #       out = self.res1(out) + self.conv1(out)\n",
        "        out = self.res1(out) + self.conv1(out)\n",
        "        out = self.res15(out)# + self.conv15(out)\n",
        "#        out = self.res2(out) + self.conv2(out)\n",
        "#        out = self.res2(out) + self.conv2(out)\n",
        "        out = self.res2(out) + self.conv2(out)\n",
        "        out = self.res2(out) #+ self.conv2(out)\n",
        "        out = self.res25(out) #+ self.conv25(out)\n",
        " #       out = self.res3(out) + self.conv3(out)\n",
        " #       out = self.res3(out) + self.conv3(out)\n",
        " #       out = self.res3(out) + self.conv3(out)\n",
        "        out = self.res3(out) + self.conv3(out)\n",
        "        out = self.res3(out) #+ self.conv3(out)\n",
        "        out = self.res35(out) #+ self.conv35(out)\n",
        "        out = self.res4(out) #+ self.conv4(out)\n",
        "        out = self.classifier(out)\n",
        "        return out"
      ],
      "metadata": {
        "id": "Ztxp7fD_OYLd"
      },
      "execution_count": null,
      "outputs": []
    },
    {
      "cell_type": "code",
      "source": [
        "#Resnet\n",
        "def conv_block(in_channels, out_channels,kernel_size=3, pool=False):\n",
        "    layers = [nn.Conv2d(in_channels, out_channels, kernel_size=kernel_size, padding=1), #on applique le kernel et le padding (stride de 1 par defaut)\n",
        "              nn.BatchNorm2d(out_channels), #on normalize\n",
        "              nn.ReLU(inplace=True)]#on applique relu, classique\n",
        "    if pool: layers.append(nn.MaxPool2d(2)) #maxpooling=> reduire les dimension \n",
        "    return nn.Sequential(*layers)#permet d'unpacker les layer soit de transformer un liste en tuple\n",
        "\n",
        "class ResNet20(ImageClassificationBase):\n",
        "    def __init__(self, in_channels, num_classes):\n",
        "        super().__init__()\n",
        "        \n",
        "        self.conv1 = conv_block(in_channels, 128,pool = True)\n",
        "\n",
        "        self.res1 = nn.Sequential(conv_block(128, 128), conv_block(128, 128))\n",
        "\n",
        "        self.res2 = nn.Sequential(conv_block(128, 128), conv_block(128, 128,pool=True))\n",
        "        self.conv2 = conv_block(128, 128,pool=True)\n",
        "\n",
        "        self.res3 = nn.Sequential(conv_block(128, 128), conv_block(128, 128))\n",
        "\n",
        "        self.res4 = nn.Sequential(conv_block(128, 256), conv_block(256, 256,pool=True))\n",
        "        self.conv3 = conv_block(128, 256,pool=True)\n",
        "\n",
        "        #self.conv4 = conv_block(256, 512,pool=True)\n",
        "        self.res5 = nn.Sequential(conv_block(256, 512), conv_block(512, 256))\n",
        "        \n",
        "        self.classifier = nn.Sequential(nn.MaxPool2d(4), \n",
        "                                        nn.Flatten(), \n",
        "                                        nn.Linear(256, num_classes))\n",
        "        \n",
        "    def forward(self, xb):\n",
        "        out = self.conv1(xb)\n",
        "        out = self.res1(out) + out\n",
        "        out = self.res1(out) + out\n",
        "        out = self.res1(out) + out\n",
        "        out = self.res2(out) + self.conv2(out)\n",
        "        out = self.res3(out) + out\n",
        "        out = self.res3(out) + out\n",
        "        out = self.res4(out) + self.conv3(out)\n",
        "        out = self.res5(out) + out\n",
        "        out = self.res5(out) + out\n",
        "        out = self.classifier(out)\n",
        "        return out"
      ],
      "metadata": {
        "id": "pvSoyoPJUk5F"
      },
      "execution_count": 41,
      "outputs": []
    },
    {
      "cell_type": "code",
      "source": [
        "#def evaluate(model, val_loader):\n",
        "    #model.eval()\n",
        "    #outputs = [model.validation_step(batch) for batch in val_loader]\n",
        "    #return model.validation_epoch_end(outputs)\n",
        "\n",
        "#def fit(n_epoch, lr, model, train_loader, val_loader, opt_func=torch.optim.SGD):\n",
        "#    history = []\n",
        "#   optimizer = opt_func(model.parameters(), lr)\n",
        "#    for epoch in range(n_epoch):\n",
        "#        # Training Phase \n",
        "#        model.train()\n",
        "#        train_losses = []\n",
        "#        for batch in train_loader:\n",
        "#           loss = model.training_step(batch)\n",
        "#            train_losses.append(loss)\n",
        "#            loss.backward()\n",
        "#            optimizer.step()\n",
        "#            optimizer.zero_grad()\n",
        "#        # Validation phase\n",
        "#        result = evaluate(model, val_loader)\n",
        "#        result['train_loss'] = torch.stack(train_losses).mean().item()\n",
        "#        model.epoch_end(epoch, result)\n",
        "#        history.append(result)\n",
        "#    return history"
      ],
      "metadata": {
        "id": "VApReimAOaaj"
      },
      "execution_count": null,
      "outputs": []
    },
    {
      "cell_type": "code",
      "source": [
        "def evaluate(model, val_loader):\n",
        "    model.eval()\n",
        "    outputs = [model.validation_step(batch) for batch in val_loader]\n",
        "    return model.validation_epoch_end(outputs)\n",
        "\n",
        "def get_lr(optimizer):\n",
        "    for param_group in optimizer.param_groups:\n",
        "        return param_group['lr']\n",
        "\n",
        "def fit(n_epoch, max_lr, model, train_loader, val_loader,weight_decay, opt_func=torch.optim.SGD):\n",
        "    history = []\n",
        "    optimizer = opt_func(model.parameters(), max_lr,weight_decay=weight_decay)\n",
        "    sched = torch.optim.lr_scheduler.OneCycleLR(optimizer, max_lr, epochs=n_epoch, steps_per_epoch=len(train_loader))\n",
        "\n",
        "    for epoch in range(n_epoch):\n",
        "        # Training Phase \n",
        "        model.train()\n",
        "        train_losses = []\n",
        "        lrs=[]\n",
        "        for batch in train_loader:\n",
        "            loss = model.training_step(batch)\n",
        "            train_losses.append(loss)\n",
        "            loss.backward()\n",
        "            optimizer.step()\n",
        "            optimizer.zero_grad()\n",
        "            lrs.append(get_lr(optimizer))\n",
        "            sched.step()\n",
        "        # Validation phase\n",
        "        result = evaluate(model, val_loader)\n",
        "        result['train_loss'] = torch.stack(train_losses).mean().item()\n",
        "        result['lrs'] = lrs\n",
        "        model.epoch_end(epoch, result)\n",
        "        history.append(result)\n",
        "    return history"
      ],
      "metadata": {
        "id": "Eg4A0J2xPRYt"
      },
      "execution_count": 48,
      "outputs": []
    },
    {
      "cell_type": "code",
      "source": [
        "opt_func = torch.optim.Adam"
      ],
      "metadata": {
        "id": "yNWD1wNzXpgA"
      },
      "execution_count": 49,
      "outputs": []
    },
    {
      "cell_type": "code",
      "source": [
        "model = to_device(ResNet20(3, 10), device)\n",
        "history = fit(n_epoch, max_lr, model, train_loader, val_loader,weight_decay,opt_func)"
      ],
      "metadata": {
        "colab": {
          "base_uri": "https://localhost:8080/"
        },
        "id": "BMBtum6hPb6C",
        "outputId": "79cfbef7-85c9-4d76-8db0-ee84e2e39b58"
      },
      "execution_count": 56,
      "outputs": [
        {
          "output_type": "stream",
          "name": "stdout",
          "text": [
            "Epoch [0], train_loss: 1.5306, val_loss: 1.1961, val_acc: 0.5779\n",
            "Epoch [1], train_loss: 1.0394, val_loss: 1.0625, val_acc: 0.6223\n",
            "Epoch [2], train_loss: 0.8416, val_loss: 1.6111, val_acc: 0.5073\n",
            "Epoch [3], train_loss: 0.7485, val_loss: 1.1189, val_acc: 0.6231\n",
            "Epoch [4], train_loss: 0.6889, val_loss: 0.7996, val_acc: 0.7267\n",
            "Epoch [5], train_loss: 0.6209, val_loss: 1.4127, val_acc: 0.5425\n",
            "Epoch [6], train_loss: 0.5784, val_loss: 0.7798, val_acc: 0.7387\n",
            "Epoch [7], train_loss: 0.4905, val_loss: 0.7685, val_acc: 0.7325\n",
            "Epoch [8], train_loss: 0.4607, val_loss: 0.7580, val_acc: 0.7423\n",
            "Epoch [9], train_loss: 0.4071, val_loss: 0.5522, val_acc: 0.8150\n",
            "Epoch [10], train_loss: 0.3907, val_loss: 0.6074, val_acc: 0.7873\n",
            "Epoch [11], train_loss: 0.3524, val_loss: 0.5854, val_acc: 0.8063\n",
            "Epoch [12], train_loss: 0.3395, val_loss: 0.6021, val_acc: 0.8069\n",
            "Epoch [13], train_loss: 0.3058, val_loss: 0.5357, val_acc: 0.8177\n",
            "Epoch [14], train_loss: 0.2975, val_loss: 0.5262, val_acc: 0.8217\n",
            "Epoch [15], train_loss: 0.2605, val_loss: 0.5054, val_acc: 0.8281\n",
            "Epoch [16], train_loss: 0.2329, val_loss: 0.5293, val_acc: 0.8158\n",
            "Epoch [17], train_loss: 0.1936, val_loss: 0.4497, val_acc: 0.8465\n",
            "Epoch [18], train_loss: 0.1614, val_loss: 0.4102, val_acc: 0.8675\n",
            "Epoch [19], train_loss: 0.1323, val_loss: 0.3934, val_acc: 0.8690\n",
            "Epoch [20], train_loss: 0.0967, val_loss: 0.3344, val_acc: 0.8927\n",
            "Epoch [21], train_loss: 0.0682, val_loss: 0.3342, val_acc: 0.8925\n",
            "Epoch [22], train_loss: 0.0501, val_loss: 0.3338, val_acc: 0.8931\n",
            "Epoch [23], train_loss: 0.0393, val_loss: 0.3190, val_acc: 0.8952\n",
            "Epoch [24], train_loss: 0.0347, val_loss: 0.3228, val_acc: 0.8990\n"
          ]
        }
      ]
    },
    {
      "cell_type": "code",
      "source": [
        "def plot_accuracies(history):\n",
        "    accuracies = [x['val_acc'] for x in history]\n",
        "    plt.plot(accuracies, '-x')\n",
        "    plt.xlabel('epoch')\n",
        "    plt.ylabel('accuracy')\n",
        "    plt.title('Accuracy vs. No. of epochs');"
      ],
      "metadata": {
        "id": "hSawTaGAQ3bX"
      },
      "execution_count": 22,
      "outputs": []
    },
    {
      "cell_type": "code",
      "source": [
        "def plot_losses(history):\n",
        "    train_losses = [x.get('train_loss') for x in history]\n",
        "    val_losses = [x['val_loss'] for x in history]\n",
        "    plt.plot(train_losses, '-bx')\n",
        "    plt.plot(val_losses, '-rx')\n",
        "    plt.xlabel('epoch')\n",
        "    plt.ylabel('loss')\n",
        "    plt.legend(['Training', 'Validation'])\n",
        "    plt.title('Loss vs. No. of epochs');"
      ],
      "metadata": {
        "id": "gh4UBmuuQ4_u"
      },
      "execution_count": 23,
      "outputs": []
    },
    {
      "cell_type": "code",
      "source": [
        "plot_accuracies(history)\n"
      ],
      "metadata": {
        "colab": {
          "base_uri": "https://localhost:8080/",
          "height": 295
        },
        "id": "SmP_KE8IXMHt",
        "outputId": "444944fa-2cf0-43a1-e610-849b2ad5aea7"
      },
      "execution_count": 51,
      "outputs": [
        {
          "output_type": "display_data",
          "data": {
            "text/plain": [
              "<Figure size 432x288 with 1 Axes>"
            ],
            "image/png": "[encoded data removed]"
          },
          "metadata": {
            "needs_background": "light"
          }
        }
      ]
    },
    {
      "cell_type": "code",
      "source": [
        "plot_losses(history)"
      ],
      "metadata": {
        "colab": {
          "base_uri": "https://localhost:8080/",
          "height": 295
        },
        "id": "V3LP7YK6XZR8",
        "outputId": "50430fe3-a47f-47e3-862c-881fac1fc768"
      },
      "execution_count": 52,
      "outputs": [
        {
          "output_type": "display_data",
          "data": {
            "text/plain": [
              "<Figure size 432x288 with 1 Axes>"
            ],
            "image/png": "[encoded data removed]"
          },
          "metadata": {
            "needs_background": "light"
          }
        }
      ]
    }
  ]
}